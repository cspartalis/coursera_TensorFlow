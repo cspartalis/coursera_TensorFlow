{
 "cells": [
  {
   "cell_type": "markdown",
   "metadata": {},
   "source": [
    "## Bidirectional LSTM architecture"
   ]
  },
  {
   "cell_type": "code",
   "execution_count": 1,
   "metadata": {
    "colab": {},
    "colab_type": "code",
    "id": "jGwXGIXvFhXW"
   },
   "outputs": [
    {
     "name": "stderr",
     "output_type": "stream",
     "text": [
      "/home/kaml/anaconda3/lib/python3.7/site-packages/tensorflow/python/framework/dtypes.py:516: FutureWarning: Passing (type, 1) or '1type' as a synonym of type is deprecated; in a future version of numpy, it will be understood as (type, (1,)) / '(1,)type'.\n",
      "  _np_qint8 = np.dtype([(\"qint8\", np.int8, 1)])\n",
      "/home/kaml/anaconda3/lib/python3.7/site-packages/tensorflow/python/framework/dtypes.py:517: FutureWarning: Passing (type, 1) or '1type' as a synonym of type is deprecated; in a future version of numpy, it will be understood as (type, (1,)) / '(1,)type'.\n",
      "  _np_quint8 = np.dtype([(\"quint8\", np.uint8, 1)])\n",
      "/home/kaml/anaconda3/lib/python3.7/site-packages/tensorflow/python/framework/dtypes.py:518: FutureWarning: Passing (type, 1) or '1type' as a synonym of type is deprecated; in a future version of numpy, it will be understood as (type, (1,)) / '(1,)type'.\n",
      "  _np_qint16 = np.dtype([(\"qint16\", np.int16, 1)])\n",
      "/home/kaml/anaconda3/lib/python3.7/site-packages/tensorflow/python/framework/dtypes.py:519: FutureWarning: Passing (type, 1) or '1type' as a synonym of type is deprecated; in a future version of numpy, it will be understood as (type, (1,)) / '(1,)type'.\n",
      "  _np_quint16 = np.dtype([(\"quint16\", np.uint16, 1)])\n",
      "/home/kaml/anaconda3/lib/python3.7/site-packages/tensorflow/python/framework/dtypes.py:520: FutureWarning: Passing (type, 1) or '1type' as a synonym of type is deprecated; in a future version of numpy, it will be understood as (type, (1,)) / '(1,)type'.\n",
      "  _np_qint32 = np.dtype([(\"qint32\", np.int32, 1)])\n",
      "/home/kaml/anaconda3/lib/python3.7/site-packages/tensorflow/python/framework/dtypes.py:525: FutureWarning: Passing (type, 1) or '1type' as a synonym of type is deprecated; in a future version of numpy, it will be understood as (type, (1,)) / '(1,)type'.\n",
      "  np_resource = np.dtype([(\"resource\", np.ubyte, 1)])\n"
     ]
    },
    {
     "name": "stdout",
     "output_type": "stream",
     "text": [
      "--2020-01-11 01:28:49--  https://storage.googleapis.com/laurencemoroney-blog.appspot.com/sarcasm.json\n",
      "Loaded CA certificate '/etc/ssl/certs/ca-certificates.crt'\n",
      "Resolving storage.googleapis.com (storage.googleapis.com)... 172.217.21.80, 2a00:1450:4002:803::2010\n",
      "Connecting to storage.googleapis.com (storage.googleapis.com)|172.217.21.80|:443... connected.\n"
     ]
    },
    {
     "name": "stderr",
     "output_type": "stream",
     "text": [
      "/home/kaml/anaconda3/lib/python3.7/site-packages/tensorboard/compat/tensorflow_stub/dtypes.py:541: FutureWarning: Passing (type, 1) or '1type' as a synonym of type is deprecated; in a future version of numpy, it will be understood as (type, (1,)) / '(1,)type'.\n",
      "  _np_qint8 = np.dtype([(\"qint8\", np.int8, 1)])\n",
      "/home/kaml/anaconda3/lib/python3.7/site-packages/tensorboard/compat/tensorflow_stub/dtypes.py:542: FutureWarning: Passing (type, 1) or '1type' as a synonym of type is deprecated; in a future version of numpy, it will be understood as (type, (1,)) / '(1,)type'.\n",
      "  _np_quint8 = np.dtype([(\"quint8\", np.uint8, 1)])\n",
      "/home/kaml/anaconda3/lib/python3.7/site-packages/tensorboard/compat/tensorflow_stub/dtypes.py:543: FutureWarning: Passing (type, 1) or '1type' as a synonym of type is deprecated; in a future version of numpy, it will be understood as (type, (1,)) / '(1,)type'.\n",
      "  _np_qint16 = np.dtype([(\"qint16\", np.int16, 1)])\n",
      "/home/kaml/anaconda3/lib/python3.7/site-packages/tensorboard/compat/tensorflow_stub/dtypes.py:544: FutureWarning: Passing (type, 1) or '1type' as a synonym of type is deprecated; in a future version of numpy, it will be understood as (type, (1,)) / '(1,)type'.\n",
      "  _np_quint16 = np.dtype([(\"quint16\", np.uint16, 1)])\n",
      "/home/kaml/anaconda3/lib/python3.7/site-packages/tensorboard/compat/tensorflow_stub/dtypes.py:545: FutureWarning: Passing (type, 1) or '1type' as a synonym of type is deprecated; in a future version of numpy, it will be understood as (type, (1,)) / '(1,)type'.\n",
      "  _np_qint32 = np.dtype([(\"qint32\", np.int32, 1)])\n",
      "/home/kaml/anaconda3/lib/python3.7/site-packages/tensorboard/compat/tensorflow_stub/dtypes.py:550: FutureWarning: Passing (type, 1) or '1type' as a synonym of type is deprecated; in a future version of numpy, it will be understood as (type, (1,)) / '(1,)type'.\n",
      "  np_resource = np.dtype([(\"resource\", np.ubyte, 1)])\n"
     ]
    },
    {
     "name": "stdout",
     "output_type": "stream",
     "text": [
      "HTTP request sent, awaiting response... 200 OK\n",
      "Length: 5643545 (5.4M) [application/json]\n",
      "Saving to: ‘/tmp/sarcasm.json’\n",
      "\n",
      "/tmp/sarcasm.json   100%[===================>]   5.38M  1.45MB/s    in 3.8s    \n",
      "\n",
      "2020-01-11 01:28:53 (1.43 MB/s) - ‘/tmp/sarcasm.json’ saved [5643545/5643545]\n",
      "\n",
      "Model: \"sequential\"\n",
      "_________________________________________________________________\n",
      "Layer (type)                 Output Shape              Param #   \n",
      "=================================================================\n",
      "embedding (Embedding)        (None, 120, 16)           16000     \n",
      "_________________________________________________________________\n",
      "bidirectional (Bidirectional (None, 64)                12544     \n",
      "_________________________________________________________________\n",
      "dense (Dense)                (None, 24)                1560      \n",
      "_________________________________________________________________\n",
      "dense_1 (Dense)              (None, 1)                 25        \n",
      "=================================================================\n",
      "Total params: 30,129\n",
      "Trainable params: 30,129\n",
      "Non-trainable params: 0\n",
      "_________________________________________________________________\n",
      "WARNING:tensorflow:From /home/kaml/anaconda3/lib/python3.7/site-packages/tensorflow/python/ops/math_grad.py:1250: add_dispatch_support.<locals>.wrapper (from tensorflow.python.ops.array_ops) is deprecated and will be removed in a future version.\n",
      "Instructions for updating:\n",
      "Use tf.where in 2.0, which has the same broadcast rule as np.where\n",
      "Train on 20000 samples, validate on 6709 samples\n",
      "Epoch 1/50\n",
      "20000/20000 [==============================] - 28s 1ms/sample - loss: 0.4533 - accuracy: 0.7743 - val_loss: 0.3884 - val_accuracy: 0.8228\n",
      "Epoch 2/50\n",
      "20000/20000 [==============================] - 29s 1ms/sample - loss: 0.3506 - accuracy: 0.8422 - val_loss: 0.3913 - val_accuracy: 0.8198\n",
      "Epoch 3/50\n",
      "20000/20000 [==============================] - 29s 1ms/sample - loss: 0.3290 - accuracy: 0.8534 - val_loss: 0.3798 - val_accuracy: 0.8274\n",
      "Epoch 4/50\n",
      "20000/20000 [==============================] - 28s 1ms/sample - loss: 0.3187 - accuracy: 0.8583 - val_loss: 0.3775 - val_accuracy: 0.8284\n",
      "Epoch 5/50\n",
      "20000/20000 [==============================] - 22s 1ms/sample - loss: 0.3085 - accuracy: 0.8630 - val_loss: 0.3845 - val_accuracy: 0.8262\n",
      "Epoch 6/50\n",
      "20000/20000 [==============================] - 22s 1ms/sample - loss: 0.3045 - accuracy: 0.8663 - val_loss: 0.3872 - val_accuracy: 0.8267\n",
      "Epoch 7/50\n",
      "20000/20000 [==============================] - 22s 1ms/sample - loss: 0.3000 - accuracy: 0.8665 - val_loss: 0.3820 - val_accuracy: 0.8284\n",
      "Epoch 8/50\n",
      "20000/20000 [==============================] - 22s 1ms/sample - loss: 0.2930 - accuracy: 0.8713 - val_loss: 0.3822 - val_accuracy: 0.8283\n",
      "Epoch 9/50\n",
      "20000/20000 [==============================] - 22s 1ms/sample - loss: 0.2872 - accuracy: 0.8733 - val_loss: 0.3881 - val_accuracy: 0.8310\n",
      "Epoch 10/50\n",
      "20000/20000 [==============================] - 22s 1ms/sample - loss: 0.2798 - accuracy: 0.8781 - val_loss: 0.3897 - val_accuracy: 0.8274\n",
      "Epoch 11/50\n",
      "20000/20000 [==============================] - 22s 1ms/sample - loss: 0.2719 - accuracy: 0.8821 - val_loss: 0.4048 - val_accuracy: 0.8207\n",
      "Epoch 12/50\n",
      "20000/20000 [==============================] - 22s 1ms/sample - loss: 0.2669 - accuracy: 0.8854 - val_loss: 0.4067 - val_accuracy: 0.8271\n",
      "Epoch 13/50\n",
      "20000/20000 [==============================] - 22s 1ms/sample - loss: 0.2592 - accuracy: 0.8895 - val_loss: 0.4129 - val_accuracy: 0.8262\n",
      "Epoch 14/50\n",
      "20000/20000 [==============================] - 23s 1ms/sample - loss: 0.2508 - accuracy: 0.8927 - val_loss: 0.4270 - val_accuracy: 0.8222\n",
      "Epoch 15/50\n",
      "20000/20000 [==============================] - 22s 1ms/sample - loss: 0.2436 - accuracy: 0.8968 - val_loss: 0.4340 - val_accuracy: 0.8217\n",
      "Epoch 16/50\n",
      "20000/20000 [==============================] - 22s 1ms/sample - loss: 0.2350 - accuracy: 0.9002 - val_loss: 0.4436 - val_accuracy: 0.8216\n",
      "Epoch 17/50\n",
      "20000/20000 [==============================] - 22s 1ms/sample - loss: 0.2275 - accuracy: 0.9039 - val_loss: 0.4412 - val_accuracy: 0.8228\n",
      "Epoch 18/50\n",
      "20000/20000 [==============================] - 22s 1ms/sample - loss: 0.2194 - accuracy: 0.9069 - val_loss: 0.4500 - val_accuracy: 0.8238\n",
      "Epoch 19/50\n",
      "20000/20000 [==============================] - 22s 1ms/sample - loss: 0.2129 - accuracy: 0.9110 - val_loss: 0.4809 - val_accuracy: 0.8143\n",
      "Epoch 20/50\n",
      "20000/20000 [==============================] - 22s 1ms/sample - loss: 0.2046 - accuracy: 0.9140 - val_loss: 0.5057 - val_accuracy: 0.8164\n",
      "Epoch 21/50\n",
      "20000/20000 [==============================] - 22s 1ms/sample - loss: 0.1981 - accuracy: 0.9182 - val_loss: 0.5205 - val_accuracy: 0.8156\n",
      "Epoch 22/50\n",
      "20000/20000 [==============================] - 22s 1ms/sample - loss: 0.1922 - accuracy: 0.9202 - val_loss: 0.5079 - val_accuracy: 0.8144\n",
      "Epoch 23/50\n",
      "20000/20000 [==============================] - 22s 1ms/sample - loss: 0.1847 - accuracy: 0.9237 - val_loss: 0.5503 - val_accuracy: 0.8123\n",
      "Epoch 24/50\n",
      "20000/20000 [==============================] - 22s 1ms/sample - loss: 0.1784 - accuracy: 0.9266 - val_loss: 0.5823 - val_accuracy: 0.8150\n",
      "Epoch 25/50\n",
      "20000/20000 [==============================] - 26s 1ms/sample - loss: 0.1741 - accuracy: 0.9271 - val_loss: 0.5850 - val_accuracy: 0.8098\n",
      "Epoch 26/50\n",
      "20000/20000 [==============================] - 25s 1ms/sample - loss: 0.1668 - accuracy: 0.9308 - val_loss: 0.5926 - val_accuracy: 0.8109\n",
      "Epoch 27/50\n",
      "20000/20000 [==============================] - 25s 1ms/sample - loss: 0.1626 - accuracy: 0.9344 - val_loss: 0.6210 - val_accuracy: 0.8111\n",
      "Epoch 28/50\n",
      "20000/20000 [==============================] - 25s 1ms/sample - loss: 0.1555 - accuracy: 0.9364 - val_loss: 0.6804 - val_accuracy: 0.8065\n",
      "Epoch 29/50\n",
      "20000/20000 [==============================] - 25s 1ms/sample - loss: 0.1487 - accuracy: 0.9392 - val_loss: 0.7193 - val_accuracy: 0.8059\n",
      "Epoch 30/50\n",
      "20000/20000 [==============================] - 26s 1ms/sample - loss: 0.1415 - accuracy: 0.9433 - val_loss: 0.7617 - val_accuracy: 0.8104\n",
      "Epoch 31/50\n",
      "20000/20000 [==============================] - 25s 1ms/sample - loss: 0.1409 - accuracy: 0.9427 - val_loss: 0.8065 - val_accuracy: 0.8062\n",
      "Epoch 32/50\n",
      "20000/20000 [==============================] - 26s 1ms/sample - loss: 0.1277 - accuracy: 0.9481 - val_loss: 0.8528 - val_accuracy: 0.8053\n",
      "Epoch 33/50\n",
      "20000/20000 [==============================] - 25s 1ms/sample - loss: 0.1254 - accuracy: 0.9489 - val_loss: 0.8738 - val_accuracy: 0.8018\n",
      "Epoch 34/50\n",
      "20000/20000 [==============================] - 25s 1ms/sample - loss: 0.1196 - accuracy: 0.9519 - val_loss: 0.9542 - val_accuracy: 0.8022\n",
      "Epoch 35/50\n",
      "20000/20000 [==============================] - 26s 1ms/sample - loss: 0.1170 - accuracy: 0.9510 - val_loss: 0.9941 - val_accuracy: 0.8034\n",
      "Epoch 36/50\n",
      "20000/20000 [==============================] - 25s 1ms/sample - loss: 0.1097 - accuracy: 0.9545 - val_loss: 0.9279 - val_accuracy: 0.7934\n",
      "Epoch 37/50\n",
      "20000/20000 [==============================] - 26s 1ms/sample - loss: 0.1091 - accuracy: 0.9543 - val_loss: 1.0876 - val_accuracy: 0.7989\n",
      "Epoch 38/50\n",
      "20000/20000 [==============================] - 25s 1ms/sample - loss: 0.1002 - accuracy: 0.9590 - val_loss: 1.1203 - val_accuracy: 0.7945\n",
      "Epoch 39/50\n",
      "20000/20000 [==============================] - 26s 1ms/sample - loss: 0.1019 - accuracy: 0.9569 - val_loss: 1.0725 - val_accuracy: 0.7928\n",
      "Epoch 40/50\n",
      "20000/20000 [==============================] - 26s 1ms/sample - loss: 0.0956 - accuracy: 0.9591 - val_loss: 1.2015 - val_accuracy: 0.7953\n",
      "Epoch 41/50\n",
      "20000/20000 [==============================] - 26s 1ms/sample - loss: 0.0911 - accuracy: 0.9611 - val_loss: 1.1723 - val_accuracy: 0.7940\n",
      "Epoch 42/50\n",
      "20000/20000 [==============================] - 26s 1ms/sample - loss: 0.0854 - accuracy: 0.9631 - val_loss: 1.1941 - val_accuracy: 0.8024\n",
      "Epoch 43/50\n",
      "20000/20000 [==============================] - 26s 1ms/sample - loss: 0.0813 - accuracy: 0.9643 - val_loss: 1.3647 - val_accuracy: 0.7945\n",
      "Epoch 44/50\n",
      "20000/20000 [==============================] - 25s 1ms/sample - loss: 0.0813 - accuracy: 0.9644 - val_loss: 1.3682 - val_accuracy: 0.7904\n",
      "Epoch 45/50\n"
     ]
    },
    {
     "name": "stdout",
     "output_type": "stream",
     "text": [
      "20000/20000 [==============================] - 25s 1ms/sample - loss: 0.0827 - accuracy: 0.9629 - val_loss: 1.3244 - val_accuracy: 0.7986\n",
      "Epoch 46/50\n",
      "20000/20000 [==============================] - 25s 1ms/sample - loss: 0.0762 - accuracy: 0.9666 - val_loss: 1.4518 - val_accuracy: 0.7959\n",
      "Epoch 47/50\n",
      "20000/20000 [==============================] - 25s 1ms/sample - loss: 0.0738 - accuracy: 0.9678 - val_loss: 1.4228 - val_accuracy: 0.7927\n",
      "Epoch 48/50\n",
      "20000/20000 [==============================] - 25s 1ms/sample - loss: 0.0742 - accuracy: 0.9686 - val_loss: 1.4741 - val_accuracy: 0.7988\n",
      "Epoch 49/50\n",
      "20000/20000 [==============================] - 25s 1ms/sample - loss: 0.0723 - accuracy: 0.9688 - val_loss: 1.4399 - val_accuracy: 0.7883\n",
      "Epoch 50/50\n",
      "20000/20000 [==============================] - 25s 1ms/sample - loss: 0.0630 - accuracy: 0.9719 - val_loss: 1.4806 - val_accuracy: 0.7895\n"
     ]
    }
   ],
   "source": [
    "import json\n",
    "import tensorflow as tf\n",
    "import numpy as np\n",
    "\n",
    "from tensorflow.keras.preprocessing.text import Tokenizer\n",
    "from tensorflow.keras.preprocessing.sequence import pad_sequences\n",
    "\n",
    "!wget --no-check-certificate \\\n",
    "    https://storage.googleapis.com/laurencemoroney-blog.appspot.com/sarcasm.json \\\n",
    "    -O /tmp/sarcasm.json\n",
    "\n",
    "vocab_size = 1000\n",
    "embedding_dim = 16\n",
    "max_length = 120\n",
    "trunc_type='post'\n",
    "padding_type='post'\n",
    "oov_tok = \"<OOV>\"\n",
    "training_size = 20000\n",
    "\n",
    "\n",
    "with open(\"/tmp/sarcasm.json\", 'r') as f:\n",
    "    datastore = json.load(f)\n",
    "\n",
    "\n",
    "sentences = []\n",
    "labels = []\n",
    "urls = []\n",
    "for item in datastore:\n",
    "    sentences.append(item['headline'])\n",
    "    labels.append(item['is_sarcastic'])\n",
    "\n",
    "training_sentences = sentences[0:training_size]\n",
    "testing_sentences = sentences[training_size:]\n",
    "training_labels = labels[0:training_size]\n",
    "testing_labels = labels[training_size:]\n",
    "\n",
    "tokenizer = Tokenizer(num_words=vocab_size, oov_token=oov_tok)\n",
    "tokenizer.fit_on_texts(training_sentences)\n",
    "\n",
    "word_index = tokenizer.word_index\n",
    "\n",
    "training_sequences = tokenizer.texts_to_sequences(training_sentences)\n",
    "training_padded = pad_sequences(training_sequences, maxlen=max_length, padding=padding_type, truncating=trunc_type)\n",
    "\n",
    "testing_sequences = tokenizer.texts_to_sequences(testing_sentences)\n",
    "testing_padded = pad_sequences(testing_sequences, maxlen=max_length, padding=padding_type, truncating=trunc_type)\n",
    "\n",
    "model = tf.keras.Sequential([\n",
    "    tf.keras.layers.Embedding(vocab_size, embedding_dim, input_length=max_length),\n",
    "    tf.keras.layers.Bidirectional(tf.keras.layers.LSTM(32)),\n",
    "    tf.keras.layers.Dense(24, activation='relu'),\n",
    "    tf.keras.layers.Dense(1, activation='sigmoid')\n",
    "])\n",
    "model.compile(loss='binary_crossentropy',optimizer='adam',metrics=['accuracy'])\n",
    "model.summary()\n",
    "\n",
    "num_epochs = 50\n",
    "training_padded = np.array(training_padded)\n",
    "training_labels = np.array(training_labels)\n",
    "testing_padded = np.array(testing_padded)\n",
    "testing_labels = np.array(testing_labels)\n",
    "history = model.fit(training_padded, training_labels, epochs=num_epochs, validation_data=(testing_padded, testing_labels), verbose=1)\n",
    "\n"
   ]
  },
  {
   "cell_type": "code",
   "execution_count": 3,
   "metadata": {
    "colab": {},
    "colab_type": "code",
    "id": "g9DC6dmLF8DC"
   },
   "outputs": [
    {
     "data": {
      "image/png": "[encoded data removed]",
      "text/plain": [
       "<Figure size 432x288 with 1 Axes>"
      ]
     },
     "metadata": {
      "needs_background": "light"
     },
     "output_type": "display_data"
    },
    {
     "data": {
      "image/png": "[encoded data removed]",
      "text/plain": [
       "<Figure size 432x288 with 1 Axes>"
      ]
     },
     "metadata": {
      "needs_background": "light"
     },
     "output_type": "display_data"
    }
   ],
   "source": [
    "import matplotlib.pyplot as plt\n",
    "\n",
    "\n",
    "def plot_graphs(history, string):\n",
    "  plt.plot(history.history[string])\n",
    "  plt.plot(history.history['val_'+string])\n",
    "  plt.xlabel(\"Epochs\")\n",
    "  plt.ylabel(string)\n",
    "  plt.legend([string, 'val_'+string])\n",
    "  plt.show()\n",
    "\n",
    "plot_graphs(history, 'accuracy')\n",
    "plot_graphs(history, 'loss')"
   ]
  },
  {
   "cell_type": "code",
   "execution_count": null,
   "metadata": {
    "colab": {},
    "colab_type": "code",
    "id": "7ZEZIUppGhdi"
   },
   "outputs": [],
   "source": [
    "model.save(\"test.h5\")"
   ]
  }
 ],
 "metadata": {
  "accelerator": "GPU",
  "colab": {
   "collapsed_sections": [],
   "name": "Course 3 - Week 3 - Lesson 2.ipynb",
   "provenance": [
    {
     "file_id": "1OOzqEhzmkFQOtmEGwMhiLxB_D2osx4eM",
     "timestamp": 1556803950670
    }
   ],
   "version": "0.3.2"
  },
  "kernelspec": {
   "display_name": "Python 3",
   "language": "python",
   "name": "python3"
  },
  "language_info": {
   "codemirror_mode": {
    "name": "ipython",
    "version": 3
   },
   "file_extension": ".py",
   "mimetype": "text/x-python",
   "name": "python",
   "nbconvert_exporter": "python",
   "pygments_lexer": "ipython3",
   "version": "3.7.5"
  }
 },
 "nbformat": 4,
 "nbformat_minor": 1
}
