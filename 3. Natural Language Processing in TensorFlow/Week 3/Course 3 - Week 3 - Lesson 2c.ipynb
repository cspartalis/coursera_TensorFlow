{
 "cells": [
  {
   "cell_type": "markdown",
   "metadata": {},
   "source": [
    "## Convolutional architecture"
   ]
  },
  {
   "cell_type": "code",
   "execution_count": 1,
   "metadata": {
    "colab": {},
    "colab_type": "code",
    "id": "jGwXGIXvFhXW"
   },
   "outputs": [
    {
     "name": "stderr",
     "output_type": "stream",
     "text": [
      "/home/kaml/anaconda3/lib/python3.7/site-packages/tensorflow/python/framework/dtypes.py:516: FutureWarning: Passing (type, 1) or '1type' as a synonym of type is deprecated; in a future version of numpy, it will be understood as (type, (1,)) / '(1,)type'.\n",
      "  _np_qint8 = np.dtype([(\"qint8\", np.int8, 1)])\n",
      "/home/kaml/anaconda3/lib/python3.7/site-packages/tensorflow/python/framework/dtypes.py:517: FutureWarning: Passing (type, 1) or '1type' as a synonym of type is deprecated; in a future version of numpy, it will be understood as (type, (1,)) / '(1,)type'.\n",
      "  _np_quint8 = np.dtype([(\"quint8\", np.uint8, 1)])\n",
      "/home/kaml/anaconda3/lib/python3.7/site-packages/tensorflow/python/framework/dtypes.py:518: FutureWarning: Passing (type, 1) or '1type' as a synonym of type is deprecated; in a future version of numpy, it will be understood as (type, (1,)) / '(1,)type'.\n",
      "  _np_qint16 = np.dtype([(\"qint16\", np.int16, 1)])\n",
      "/home/kaml/anaconda3/lib/python3.7/site-packages/tensorflow/python/framework/dtypes.py:519: FutureWarning: Passing (type, 1) or '1type' as a synonym of type is deprecated; in a future version of numpy, it will be understood as (type, (1,)) / '(1,)type'.\n",
      "  _np_quint16 = np.dtype([(\"quint16\", np.uint16, 1)])\n",
      "/home/kaml/anaconda3/lib/python3.7/site-packages/tensorflow/python/framework/dtypes.py:520: FutureWarning: Passing (type, 1) or '1type' as a synonym of type is deprecated; in a future version of numpy, it will be understood as (type, (1,)) / '(1,)type'.\n",
      "  _np_qint32 = np.dtype([(\"qint32\", np.int32, 1)])\n",
      "/home/kaml/anaconda3/lib/python3.7/site-packages/tensorflow/python/framework/dtypes.py:525: FutureWarning: Passing (type, 1) or '1type' as a synonym of type is deprecated; in a future version of numpy, it will be understood as (type, (1,)) / '(1,)type'.\n",
      "  np_resource = np.dtype([(\"resource\", np.ubyte, 1)])\n"
     ]
    },
    {
     "name": "stdout",
     "output_type": "stream",
     "text": [
      "--2020-01-11 01:28:58--  https://storage.googleapis.com/laurencemoroney-blog.appspot.com/sarcasm.json\n",
      "Loaded CA certificate '/etc/ssl/certs/ca-certificates.crt'\n",
      "Resolving storage.googleapis.com (storage.googleapis.com)... 172.217.21.80, 2a00:1450:4002:803::2010\n",
      "Connecting to storage.googleapis.com (storage.googleapis.com)|172.217.21.80|:443... connected.\n"
     ]
    },
    {
     "name": "stderr",
     "output_type": "stream",
     "text": [
      "/home/kaml/anaconda3/lib/python3.7/site-packages/tensorboard/compat/tensorflow_stub/dtypes.py:541: FutureWarning: Passing (type, 1) or '1type' as a synonym of type is deprecated; in a future version of numpy, it will be understood as (type, (1,)) / '(1,)type'.\n",
      "  _np_qint8 = np.dtype([(\"qint8\", np.int8, 1)])\n",
      "/home/kaml/anaconda3/lib/python3.7/site-packages/tensorboard/compat/tensorflow_stub/dtypes.py:542: FutureWarning: Passing (type, 1) or '1type' as a synonym of type is deprecated; in a future version of numpy, it will be understood as (type, (1,)) / '(1,)type'.\n",
      "  _np_quint8 = np.dtype([(\"quint8\", np.uint8, 1)])\n",
      "/home/kaml/anaconda3/lib/python3.7/site-packages/tensorboard/compat/tensorflow_stub/dtypes.py:543: FutureWarning: Passing (type, 1) or '1type' as a synonym of type is deprecated; in a future version of numpy, it will be understood as (type, (1,)) / '(1,)type'.\n",
      "  _np_qint16 = np.dtype([(\"qint16\", np.int16, 1)])\n",
      "/home/kaml/anaconda3/lib/python3.7/site-packages/tensorboard/compat/tensorflow_stub/dtypes.py:544: FutureWarning: Passing (type, 1) or '1type' as a synonym of type is deprecated; in a future version of numpy, it will be understood as (type, (1,)) / '(1,)type'.\n",
      "  _np_quint16 = np.dtype([(\"quint16\", np.uint16, 1)])\n",
      "/home/kaml/anaconda3/lib/python3.7/site-packages/tensorboard/compat/tensorflow_stub/dtypes.py:545: FutureWarning: Passing (type, 1) or '1type' as a synonym of type is deprecated; in a future version of numpy, it will be understood as (type, (1,)) / '(1,)type'.\n",
      "  _np_qint32 = np.dtype([(\"qint32\", np.int32, 1)])\n",
      "/home/kaml/anaconda3/lib/python3.7/site-packages/tensorboard/compat/tensorflow_stub/dtypes.py:550: FutureWarning: Passing (type, 1) or '1type' as a synonym of type is deprecated; in a future version of numpy, it will be understood as (type, (1,)) / '(1,)type'.\n",
      "  np_resource = np.dtype([(\"resource\", np.ubyte, 1)])\n"
     ]
    },
    {
     "name": "stdout",
     "output_type": "stream",
     "text": [
      "HTTP request sent, awaiting response... 200 OK\n",
      "Length: 5643545 (5.4M) [application/json]\n",
      "Saving to: ‘/tmp/sarcasm.json’\n",
      "\n",
      "/tmp/sarcasm.json   100%[===================>]   5.38M  1.28MB/s    in 4.3s    \n",
      "\n",
      "2020-01-11 01:29:02 (1.26 MB/s) - ‘/tmp/sarcasm.json’ saved [5643545/5643545]\n",
      "\n",
      "Model: \"sequential\"\n",
      "_________________________________________________________________\n",
      "Layer (type)                 Output Shape              Param #   \n",
      "=================================================================\n",
      "embedding (Embedding)        (None, 120, 16)           16000     \n",
      "_________________________________________________________________\n",
      "conv1d (Conv1D)              (None, 116, 128)          10368     \n",
      "_________________________________________________________________\n",
      "global_max_pooling1d (Global (None, 128)               0         \n",
      "_________________________________________________________________\n",
      "dense (Dense)                (None, 24)                3096      \n",
      "_________________________________________________________________\n",
      "dense_1 (Dense)              (None, 1)                 25        \n",
      "=================================================================\n",
      "Total params: 29,489\n",
      "Trainable params: 29,489\n",
      "Non-trainable params: 0\n",
      "_________________________________________________________________\n",
      "WARNING:tensorflow:From /home/kaml/anaconda3/lib/python3.7/site-packages/tensorflow/python/ops/math_grad.py:1250: add_dispatch_support.<locals>.wrapper (from tensorflow.python.ops.array_ops) is deprecated and will be removed in a future version.\n",
      "Instructions for updating:\n",
      "Use tf.where in 2.0, which has the same broadcast rule as np.where\n",
      "Train on 20000 samples, validate on 6709 samples\n",
      "Epoch 1/50\n",
      "20000/20000 [==============================] - 2s 115us/sample - loss: 0.4736 - accuracy: 0.7607 - val_loss: 0.4107 - val_accuracy: 0.8132\n",
      "Epoch 2/50\n",
      "20000/20000 [==============================] - 2s 102us/sample - loss: 0.3646 - accuracy: 0.8365 - val_loss: 0.3947 - val_accuracy: 0.8201\n",
      "Epoch 3/50\n",
      "20000/20000 [==============================] - 2s 109us/sample - loss: 0.3270 - accuracy: 0.8561 - val_loss: 0.3925 - val_accuracy: 0.8223\n",
      "Epoch 4/50\n",
      "20000/20000 [==============================] - 2s 111us/sample - loss: 0.2966 - accuracy: 0.8705 - val_loss: 0.3959 - val_accuracy: 0.8243\n",
      "Epoch 5/50\n",
      "20000/20000 [==============================] - 2s 98us/sample - loss: 0.2641 - accuracy: 0.8878 - val_loss: 0.4190 - val_accuracy: 0.8208\n",
      "Epoch 6/50\n",
      "20000/20000 [==============================] - 2s 100us/sample - loss: 0.2301 - accuracy: 0.9051 - val_loss: 0.4411 - val_accuracy: 0.8189\n",
      "Epoch 7/50\n",
      "20000/20000 [==============================] - 2s 98us/sample - loss: 0.1959 - accuracy: 0.9212 - val_loss: 0.4808 - val_accuracy: 0.8144\n",
      "Epoch 8/50\n",
      "20000/20000 [==============================] - 2s 98us/sample - loss: 0.1645 - accuracy: 0.9360 - val_loss: 0.5510 - val_accuracy: 0.8064\n",
      "Epoch 9/50\n",
      "20000/20000 [==============================] - 2s 100us/sample - loss: 0.1383 - accuracy: 0.9484 - val_loss: 0.6198 - val_accuracy: 0.8031\n",
      "Epoch 10/50\n",
      "20000/20000 [==============================] - 2s 98us/sample - loss: 0.1150 - accuracy: 0.9577 - val_loss: 0.6725 - val_accuracy: 0.8012\n",
      "Epoch 11/50\n",
      "20000/20000 [==============================] - 2s 104us/sample - loss: 0.0965 - accuracy: 0.9645 - val_loss: 0.7111 - val_accuracy: 0.8022\n",
      "Epoch 12/50\n",
      "20000/20000 [==============================] - 2s 108us/sample - loss: 0.0817 - accuracy: 0.9721 - val_loss: 0.8184 - val_accuracy: 0.7986\n",
      "Epoch 13/50\n",
      "20000/20000 [==============================] - 2s 103us/sample - loss: 0.0698 - accuracy: 0.9759 - val_loss: 0.8859 - val_accuracy: 0.7943\n",
      "Epoch 14/50\n",
      "20000/20000 [==============================] - 2s 101us/sample - loss: 0.0613 - accuracy: 0.9793 - val_loss: 0.9923 - val_accuracy: 0.7973\n",
      "Epoch 15/50\n",
      "20000/20000 [==============================] - 2s 99us/sample - loss: 0.0542 - accuracy: 0.9819 - val_loss: 1.1549 - val_accuracy: 0.7800\n",
      "Epoch 16/50\n",
      "20000/20000 [==============================] - 2s 99us/sample - loss: 0.0522 - accuracy: 0.9811 - val_loss: 1.1126 - val_accuracy: 0.7889\n",
      "Epoch 17/50\n",
      "20000/20000 [==============================] - 2s 98us/sample - loss: 0.0458 - accuracy: 0.9837 - val_loss: 1.2053 - val_accuracy: 0.7876\n",
      "Epoch 18/50\n",
      "20000/20000 [==============================] - 2s 101us/sample - loss: 0.0402 - accuracy: 0.9851 - val_loss: 1.2324 - val_accuracy: 0.7888\n",
      "Epoch 19/50\n",
      "20000/20000 [==============================] - 2s 99us/sample - loss: 0.0384 - accuracy: 0.9856 - val_loss: 1.3079 - val_accuracy: 0.7939\n",
      "Epoch 20/50\n",
      "20000/20000 [==============================] - 2s 100us/sample - loss: 0.0387 - accuracy: 0.9848 - val_loss: 1.4085 - val_accuracy: 0.7897\n",
      "Epoch 21/50\n",
      "20000/20000 [==============================] - 2s 101us/sample - loss: 0.0354 - accuracy: 0.9864 - val_loss: 1.3641 - val_accuracy: 0.7880\n",
      "Epoch 22/50\n",
      "20000/20000 [==============================] - 2s 99us/sample - loss: 0.0302 - accuracy: 0.9889 - val_loss: 1.4485 - val_accuracy: 0.7869\n",
      "Epoch 23/50\n",
      "20000/20000 [==============================] - 2s 97us/sample - loss: 0.0317 - accuracy: 0.9881 - val_loss: 1.4705 - val_accuracy: 0.7861\n",
      "Epoch 24/50\n",
      "20000/20000 [==============================] - 2s 96us/sample - loss: 0.0384 - accuracy: 0.9847 - val_loss: 1.4347 - val_accuracy: 0.7861\n",
      "Epoch 25/50\n",
      "20000/20000 [==============================] - 2s 98us/sample - loss: 0.0346 - accuracy: 0.9862 - val_loss: 1.4668 - val_accuracy: 0.7858\n",
      "Epoch 26/50\n",
      "20000/20000 [==============================] - 2s 101us/sample - loss: 0.0292 - accuracy: 0.9882 - val_loss: 1.5740 - val_accuracy: 0.7912\n",
      "Epoch 27/50\n",
      "20000/20000 [==============================] - 2s 100us/sample - loss: 0.0241 - accuracy: 0.9900 - val_loss: 1.5909 - val_accuracy: 0.7854\n",
      "Epoch 28/50\n",
      "20000/20000 [==============================] - 2s 101us/sample - loss: 0.0220 - accuracy: 0.9908 - val_loss: 1.6008 - val_accuracy: 0.7894\n",
      "Epoch 29/50\n",
      "20000/20000 [==============================] - 2s 102us/sample - loss: 0.0234 - accuracy: 0.9901 - val_loss: 1.7244 - val_accuracy: 0.7889\n",
      "Epoch 30/50\n",
      "20000/20000 [==============================] - 2s 101us/sample - loss: 0.0286 - accuracy: 0.9880 - val_loss: 1.6878 - val_accuracy: 0.7837\n",
      "Epoch 31/50\n",
      "20000/20000 [==============================] - 2s 100us/sample - loss: 0.0292 - accuracy: 0.9884 - val_loss: 1.7258 - val_accuracy: 0.7797\n",
      "Epoch 32/50\n",
      "20000/20000 [==============================] - 2s 102us/sample - loss: 0.0254 - accuracy: 0.9898 - val_loss: 1.7063 - val_accuracy: 0.7924\n",
      "Epoch 33/50\n",
      "20000/20000 [==============================] - 2s 101us/sample - loss: 0.0263 - accuracy: 0.9893 - val_loss: 1.6891 - val_accuracy: 0.7901\n",
      "Epoch 34/50\n",
      "20000/20000 [==============================] - 2s 101us/sample - loss: 0.0199 - accuracy: 0.9917 - val_loss: 1.7308 - val_accuracy: 0.7916\n",
      "Epoch 35/50\n",
      "20000/20000 [==============================] - 2s 101us/sample - loss: 0.0216 - accuracy: 0.9902 - val_loss: 1.7643 - val_accuracy: 0.7898\n",
      "Epoch 36/50\n",
      "20000/20000 [==============================] - 2s 102us/sample - loss: 0.0240 - accuracy: 0.9893 - val_loss: 1.8122 - val_accuracy: 0.7822\n",
      "Epoch 37/50\n",
      "20000/20000 [==============================] - 2s 100us/sample - loss: 0.0204 - accuracy: 0.9915 - val_loss: 1.7947 - val_accuracy: 0.7854\n",
      "Epoch 38/50\n",
      "20000/20000 [==============================] - 2s 97us/sample - loss: 0.0217 - accuracy: 0.9906 - val_loss: 1.8512 - val_accuracy: 0.7863\n",
      "Epoch 39/50\n",
      "20000/20000 [==============================] - 2s 99us/sample - loss: 0.0279 - accuracy: 0.9885 - val_loss: 1.7672 - val_accuracy: 0.7873\n",
      "Epoch 40/50\n",
      "20000/20000 [==============================] - 2s 104us/sample - loss: 0.0249 - accuracy: 0.9898 - val_loss: 1.7502 - val_accuracy: 0.7882\n",
      "Epoch 41/50\n",
      "20000/20000 [==============================] - 2s 106us/sample - loss: 0.0199 - accuracy: 0.9917 - val_loss: 1.8339 - val_accuracy: 0.7904\n",
      "Epoch 42/50\n",
      "20000/20000 [==============================] - 2s 102us/sample - loss: 0.0174 - accuracy: 0.9919 - val_loss: 1.8580 - val_accuracy: 0.7930\n",
      "Epoch 43/50\n",
      "20000/20000 [==============================] - 2s 98us/sample - loss: 0.0235 - accuracy: 0.9900 - val_loss: 1.8805 - val_accuracy: 0.7894\n",
      "Epoch 44/50\n"
     ]
    },
    {
     "name": "stdout",
     "output_type": "stream",
     "text": [
      "20000/20000 [==============================] - 2s 97us/sample - loss: 0.0296 - accuracy: 0.9886 - val_loss: 1.7915 - val_accuracy: 0.7839\n",
      "Epoch 45/50\n",
      "20000/20000 [==============================] - 2s 100us/sample - loss: 0.0190 - accuracy: 0.9912 - val_loss: 1.9307 - val_accuracy: 0.7864\n",
      "Epoch 46/50\n",
      "20000/20000 [==============================] - 2s 103us/sample - loss: 0.0156 - accuracy: 0.9927 - val_loss: 1.9193 - val_accuracy: 0.7913\n",
      "Epoch 47/50\n",
      "20000/20000 [==============================] - 2s 105us/sample - loss: 0.0157 - accuracy: 0.9926 - val_loss: 1.9200 - val_accuracy: 0.7861\n",
      "Epoch 48/50\n",
      "20000/20000 [==============================] - 2s 102us/sample - loss: 0.0212 - accuracy: 0.9912 - val_loss: 1.8637 - val_accuracy: 0.7857\n",
      "Epoch 49/50\n",
      "20000/20000 [==============================] - 2s 102us/sample - loss: 0.0265 - accuracy: 0.9887 - val_loss: 1.9447 - val_accuracy: 0.7803\n",
      "Epoch 50/50\n",
      "20000/20000 [==============================] - 2s 106us/sample - loss: 0.0205 - accuracy: 0.9912 - val_loss: 1.8813 - val_accuracy: 0.7864\n"
     ]
    }
   ],
   "source": [
    "import json\n",
    "import tensorflow as tf\n",
    "\n",
    "from tensorflow.keras.preprocessing.text import Tokenizer\n",
    "from tensorflow.keras.preprocessing.sequence import pad_sequences\n",
    "\n",
    "!wget --no-check-certificate \\\n",
    "    https://storage.googleapis.com/laurencemoroney-blog.appspot.com/sarcasm.json \\\n",
    "    -O /tmp/sarcasm.json\n",
    "\n",
    "vocab_size = 1000\n",
    "embedding_dim = 16\n",
    "max_length = 120\n",
    "trunc_type='post'\n",
    "padding_type='post'\n",
    "oov_tok = \"<OOV>\"\n",
    "training_size = 20000\n",
    "\n",
    "\n",
    "with open(\"/tmp/sarcasm.json\", 'r') as f:\n",
    "    datastore = json.load(f)\n",
    "\n",
    "\n",
    "sentences = []\n",
    "labels = []\n",
    "urls = []\n",
    "for item in datastore:\n",
    "    sentences.append(item['headline'])\n",
    "    labels.append(item['is_sarcastic'])\n",
    "\n",
    "training_sentences = sentences[0:training_size]\n",
    "testing_sentences = sentences[training_size:]\n",
    "training_labels = labels[0:training_size]\n",
    "testing_labels = labels[training_size:]\n",
    "\n",
    "tokenizer = Tokenizer(num_words=vocab_size, oov_token=oov_tok)\n",
    "tokenizer.fit_on_texts(training_sentences)\n",
    "\n",
    "word_index = tokenizer.word_index\n",
    "\n",
    "training_sequences = tokenizer.texts_to_sequences(training_sentences)\n",
    "training_padded = pad_sequences(training_sequences, maxlen=max_length, padding=padding_type, truncating=trunc_type)\n",
    "\n",
    "testing_sequences = tokenizer.texts_to_sequences(testing_sentences)\n",
    "testing_padded = pad_sequences(testing_sequences, maxlen=max_length, padding=padding_type, truncating=trunc_type)\n",
    "\n",
    "model = tf.keras.Sequential([\n",
    "    tf.keras.layers.Embedding(vocab_size, embedding_dim, input_length=max_length),\n",
    "    tf.keras.layers.Conv1D(128, 5, activation='relu'),\n",
    "    tf.keras.layers.GlobalMaxPooling1D(),\n",
    "    tf.keras.layers.Dense(24, activation='relu'),\n",
    "    tf.keras.layers.Dense(1, activation='sigmoid')\n",
    "])\n",
    "model.compile(loss='binary_crossentropy',optimizer='adam',metrics=['accuracy'])\n",
    "model.summary()\n",
    "\n",
    "num_epochs = 50\n",
    "history = model.fit(training_padded, training_labels, epochs=num_epochs, validation_data=(testing_padded, testing_labels), verbose=1)\n",
    "\n"
   ]
  },
  {
   "cell_type": "code",
   "execution_count": 3,
   "metadata": {
    "colab": {},
    "colab_type": "code",
    "id": "g9DC6dmLF8DC"
   },
   "outputs": [
    {
     "data": {
      "image/png": "[encoded data removed]",
      "text/plain": [
       "<Figure size 432x288 with 1 Axes>"
      ]
     },
     "metadata": {
      "needs_background": "light"
     },
     "output_type": "display_data"
    },
    {
     "data": {
      "image/png": "[encoded data removed]",
      "text/plain": [
       "<Figure size 432x288 with 1 Axes>"
      ]
     },
     "metadata": {
      "needs_background": "light"
     },
     "output_type": "display_data"
    }
   ],
   "source": [
    "import matplotlib.pyplot as plt\n",
    "\n",
    "\n",
    "def plot_graphs(history, string):\n",
    "  plt.plot(history.history[string])\n",
    "  plt.plot(history.history['val_'+string])\n",
    "  plt.xlabel(\"Epochs\")\n",
    "  plt.ylabel(string)\n",
    "  plt.legend([string, 'val_'+string])\n",
    "  plt.show()\n",
    "\n",
    "plot_graphs(history, 'accuracy')\n",
    "plot_graphs(history, 'loss')"
   ]
  },
  {
   "cell_type": "code",
   "execution_count": null,
   "metadata": {
    "colab": {},
    "colab_type": "code",
    "id": "7ZEZIUppGhdi"
   },
   "outputs": [],
   "source": [
    "model.save(\"test.h5\")"
   ]
  }
 ],
 "metadata": {
  "accelerator": "GPU",
  "colab": {
   "collapsed_sections": [],
   "name": "Course 3 - Week 3 - Lesson 2c.ipynb",
   "provenance": [
    {
     "file_id": "1hJrHjN5rpA01RJl6LDPgG1udgsIda4ke",
     "timestamp": 1556829841087
    },
    {
     "file_id": "1OOzqEhzmkFQOtmEGwMhiLxB_D2osx4eM",
     "timestamp": 1556803950670
    }
   ],
   "version": "0.3.2"
  },
  "kernelspec": {
   "display_name": "Python 3",
   "language": "python",
   "name": "python3"
  },
  "language_info": {
   "codemirror_mode": {
    "name": "ipython",
    "version": 3
   },
   "file_extension": ".py",
   "mimetype": "text/x-python",
   "name": "python",
   "nbconvert_exporter": "python",
   "pygments_lexer": "ipython3",
   "version": "3.7.5"
  }
 },
 "nbformat": 4,
 "nbformat_minor": 1
}
