{
 "cells": [
  {
   "cell_type": "code",
   "execution_count": 36,
   "metadata": {
    "colab": {},
    "colab_type": "code",
    "id": "XYYDvoskkE61"
   },
   "outputs": [],
   "source": [
    "import numpy as np\n",
    "import json\n",
    "import tensorflow as tf\n",
    "\n",
    "from tensorflow.keras.preprocessing.text import Tokenizer\n",
    "from tensorflow.keras.preprocessing.sequence import pad_sequences"
   ]
  },
  {
   "cell_type": "code",
   "execution_count": 26,
   "metadata": {
    "colab": {},
    "colab_type": "code",
    "id": "0eJSTTYnkJQd"
   },
   "outputs": [],
   "source": [
    "vocab_size = 10000\n",
    "embedding_dim = 16\n",
    "max_length = 100\n",
    "trunc_type='post'\n",
    "padding_type='post'\n",
    "oov_tok = \"<OOV>\"\n",
    "training_size = 20000\n"
   ]
  },
  {
   "cell_type": "code",
   "execution_count": 27,
   "metadata": {
    "colab": {},
    "colab_type": "code",
    "id": "BQVuQrZNkPn9"
   },
   "outputs": [
    {
     "name": "stdout",
     "output_type": "stream",
     "text": [
      "--2020-01-10 23:31:49--  https://storage.googleapis.com/laurencemoroney-blog.appspot.com/sarcasm.json\n",
      "Loaded CA certificate '/etc/ssl/certs/ca-certificates.crt'\n",
      "Resolving storage.googleapis.com (storage.googleapis.com)... 216.58.205.80, 2a00:1450:4002:807::2010\n",
      "Connecting to storage.googleapis.com (storage.googleapis.com)|216.58.205.80|:443... connected.\n",
      "HTTP request sent, awaiting response... 200 OK\n",
      "Length: 5643545 (5.4M) [application/json]\n",
      "Saving to: ‘/tmp/sarcasm.json’\n",
      "\n",
      "/tmp/sarcasm.json   100%[===================>]   5.38M  1.52MB/s    in 3.6s    \n",
      "\n",
      "2020-01-10 23:31:53 (1.48 MB/s) - ‘/tmp/sarcasm.json’ saved [5643545/5643545]\n",
      "\n"
     ]
    }
   ],
   "source": [
    "!wget --no-check-certificate \\\n",
    "    https://storage.googleapis.com/laurencemoroney-blog.appspot.com/sarcasm.json \\\n",
    "    -O /tmp/sarcasm.json\n"
   ]
  },
  {
   "cell_type": "code",
   "execution_count": 28,
   "metadata": {
    "colab": {},
    "colab_type": "code",
    "id": "oaLaaqhNkUPd"
   },
   "outputs": [],
   "source": [
    "with open(\"/tmp/sarcasm.json\", 'r') as f:\n",
    "    datastore = json.load(f)\n",
    "\n",
    "sentences = []\n",
    "labels = []\n",
    "\n",
    "for item in datastore:\n",
    "    sentences.append(item['headline'])\n",
    "    labels.append(item['is_sarcastic'])"
   ]
  },
  {
   "cell_type": "code",
   "execution_count": 29,
   "metadata": {
    "colab": {},
    "colab_type": "code",
    "id": "S1sD-7v0kYWk"
   },
   "outputs": [],
   "source": [
    "training_sentences = sentences[0:training_size]\n",
    "testing_sentences = sentences[training_size:]\n",
    "training_labels = labels[0:training_size]\n",
    "testing_labels = labels[training_size:]"
   ]
  },
  {
   "cell_type": "code",
   "execution_count": 30,
   "metadata": {
    "colab": {},
    "colab_type": "code",
    "id": "3u8UB0MCkZ5N"
   },
   "outputs": [],
   "source": [
    "tokenizer = Tokenizer(num_words=vocab_size, oov_token=oov_tok)\n",
    "tokenizer.fit_on_texts(training_sentences)\n",
    "\n",
    "word_index = tokenizer.word_index\n",
    "\n",
    "training_sequences = tokenizer.texts_to_sequences(training_sentences)\n",
    "training_padded = pad_sequences(training_sequences, maxlen=max_length, padding=padding_type, truncating=trunc_type)\n",
    "\n",
    "testing_sequences = tokenizer.texts_to_sequences(testing_sentences)\n",
    "testing_padded = pad_sequences(testing_sequences, maxlen=max_length, padding=padding_type, truncating=trunc_type)"
   ]
  },
  {
   "cell_type": "code",
   "execution_count": 31,
   "metadata": {
    "colab": {},
    "colab_type": "code",
    "id": "FufaT4vlkiDE"
   },
   "outputs": [],
   "source": [
    "model = tf.keras.Sequential([\n",
    "    tf.keras.layers.Embedding(vocab_size, embedding_dim, input_length=max_length),\n",
    "    tf.keras.layers.GlobalAveragePooling1D(),\n",
    "    tf.keras.layers.Dense(24, activation='relu'),\n",
    "    tf.keras.layers.Dense(1, activation='sigmoid')\n",
    "])\n",
    "model.compile(loss='binary_crossentropy',optimizer='adam',metrics=['accuracy'])"
   ]
  },
  {
   "cell_type": "code",
   "execution_count": 32,
   "metadata": {
    "colab": {},
    "colab_type": "code",
    "id": "XfDt1hmYkiys"
   },
   "outputs": [
    {
     "name": "stdout",
     "output_type": "stream",
     "text": [
      "Model: \"sequential_3\"\n",
      "_________________________________________________________________\n",
      "Layer (type)                 Output Shape              Param #   \n",
      "=================================================================\n",
      "embedding_3 (Embedding)      (None, 100, 16)           160000    \n",
      "_________________________________________________________________\n",
      "global_average_pooling1d_3 ( (None, 16)                0         \n",
      "_________________________________________________________________\n",
      "dense_6 (Dense)              (None, 24)                408       \n",
      "_________________________________________________________________\n",
      "dense_7 (Dense)              (None, 1)                 25        \n",
      "=================================================================\n",
      "Total params: 160,433\n",
      "Trainable params: 160,433\n",
      "Non-trainable params: 0\n",
      "_________________________________________________________________\n"
     ]
    }
   ],
   "source": [
    "model.summary()\n"
   ]
  },
  {
   "cell_type": "code",
   "execution_count": 37,
   "metadata": {
    "colab": {},
    "colab_type": "code",
    "id": "2DTKQFf1kkyc"
   },
   "outputs": [
    {
     "name": "stdout",
     "output_type": "stream",
     "text": [
      "Train on 20000 samples, validate on 6709 samples\n",
      "Epoch 1/30\n",
      "20000/20000 - 4s - loss: 0.6696 - accuracy: 0.5770 - val_loss: 0.6051 - val_accuracy: 0.6639\n",
      "Epoch 2/30\n",
      "20000/20000 - 3s - loss: 0.4570 - accuracy: 0.8170 - val_loss: 0.3967 - val_accuracy: 0.8299\n",
      "Epoch 3/30\n",
      "20000/20000 - 3s - loss: 0.3251 - accuracy: 0.8705 - val_loss: 0.3583 - val_accuracy: 0.8499\n",
      "Epoch 4/30\n",
      "20000/20000 - 3s - loss: 0.2742 - accuracy: 0.8911 - val_loss: 0.3444 - val_accuracy: 0.8553\n",
      "Epoch 5/30\n",
      "20000/20000 - 3s - loss: 0.2374 - accuracy: 0.9076 - val_loss: 0.3404 - val_accuracy: 0.8559\n",
      "Epoch 6/30\n",
      "20000/20000 - 3s - loss: 0.2095 - accuracy: 0.9201 - val_loss: 0.3605 - val_accuracy: 0.8471\n",
      "Epoch 7/30\n",
      "20000/20000 - 3s - loss: 0.1869 - accuracy: 0.9302 - val_loss: 0.3511 - val_accuracy: 0.8542\n",
      "Epoch 8/30\n",
      "20000/20000 - 3s - loss: 0.1705 - accuracy: 0.9350 - val_loss: 0.3610 - val_accuracy: 0.8563\n",
      "Epoch 9/30\n",
      "20000/20000 - 3s - loss: 0.1531 - accuracy: 0.9450 - val_loss: 0.3755 - val_accuracy: 0.8559\n",
      "Epoch 10/30\n",
      "20000/20000 - 3s - loss: 0.1392 - accuracy: 0.9506 - val_loss: 0.3912 - val_accuracy: 0.8538\n",
      "Epoch 11/30\n",
      "20000/20000 - 3s - loss: 0.1280 - accuracy: 0.9541 - val_loss: 0.4084 - val_accuracy: 0.8517\n",
      "Epoch 12/30\n",
      "20000/20000 - 3s - loss: 0.1167 - accuracy: 0.9585 - val_loss: 0.4420 - val_accuracy: 0.8416\n",
      "Epoch 13/30\n",
      "20000/20000 - 3s - loss: 0.1069 - accuracy: 0.9645 - val_loss: 0.4524 - val_accuracy: 0.8453\n",
      "Epoch 14/30\n",
      "20000/20000 - 3s - loss: 0.0985 - accuracy: 0.9668 - val_loss: 0.4888 - val_accuracy: 0.8377\n",
      "Epoch 15/30\n",
      "20000/20000 - 3s - loss: 0.0915 - accuracy: 0.9695 - val_loss: 0.4953 - val_accuracy: 0.8444\n",
      "Epoch 16/30\n",
      "20000/20000 - 3s - loss: 0.0842 - accuracy: 0.9727 - val_loss: 0.5195 - val_accuracy: 0.8423\n",
      "Epoch 17/30\n",
      "20000/20000 - 3s - loss: 0.0771 - accuracy: 0.9749 - val_loss: 0.5542 - val_accuracy: 0.8369\n",
      "Epoch 18/30\n",
      "20000/20000 - 3s - loss: 0.0704 - accuracy: 0.9779 - val_loss: 0.5742 - val_accuracy: 0.8365\n",
      "Epoch 19/30\n",
      "20000/20000 - 3s - loss: 0.0655 - accuracy: 0.9796 - val_loss: 0.6591 - val_accuracy: 0.8228\n",
      "Epoch 20/30\n",
      "20000/20000 - 3s - loss: 0.0606 - accuracy: 0.9804 - val_loss: 0.6605 - val_accuracy: 0.8269\n",
      "Epoch 21/30\n",
      "20000/20000 - 3s - loss: 0.0567 - accuracy: 0.9815 - val_loss: 0.6642 - val_accuracy: 0.8313\n",
      "Epoch 22/30\n",
      "20000/20000 - 3s - loss: 0.0535 - accuracy: 0.9837 - val_loss: 0.6946 - val_accuracy: 0.8274\n",
      "Epoch 23/30\n",
      "20000/20000 - 3s - loss: 0.0477 - accuracy: 0.9856 - val_loss: 0.7331 - val_accuracy: 0.8247\n",
      "Epoch 24/30\n",
      "20000/20000 - 4s - loss: 0.0448 - accuracy: 0.9851 - val_loss: 0.7619 - val_accuracy: 0.8252\n",
      "Epoch 25/30\n",
      "20000/20000 - 4s - loss: 0.0409 - accuracy: 0.9883 - val_loss: 0.7952 - val_accuracy: 0.8237\n",
      "Epoch 26/30\n",
      "20000/20000 - 3s - loss: 0.0378 - accuracy: 0.9897 - val_loss: 0.8260 - val_accuracy: 0.8238\n",
      "Epoch 27/30\n",
      "20000/20000 - 4s - loss: 0.0355 - accuracy: 0.9898 - val_loss: 0.8649 - val_accuracy: 0.8220\n",
      "Epoch 28/30\n",
      "20000/20000 - 4s - loss: 0.0316 - accuracy: 0.9907 - val_loss: 0.8979 - val_accuracy: 0.8190\n",
      "Epoch 29/30\n",
      "20000/20000 - 3s - loss: 0.0296 - accuracy: 0.9919 - val_loss: 0.9410 - val_accuracy: 0.8170\n",
      "Epoch 30/30\n",
      "20000/20000 - 3s - loss: 0.0292 - accuracy: 0.9913 - val_loss: 1.0450 - val_accuracy: 0.8092\n"
     ]
    }
   ],
   "source": [
    "num_epochs = 30\n",
    "history = model.fit(x = np.array(training_padded), y = np.array(training_labels), epochs=num_epochs, validation_data=(np.array(testing_padded), np.array(testing_labels)), verbose=2)"
   ]
  },
  {
   "cell_type": "code",
   "execution_count": 38,
   "metadata": {
    "colab": {},
    "colab_type": "code",
    "id": "2HYfBKXjkmU8"
   },
   "outputs": [
    {
     "data": {
      "image/png": "[encoded data removed]",
      "text/plain": [
       "<Figure size 432x288 with 1 Axes>"
      ]
     },
     "metadata": {
      "needs_background": "light"
     },
     "output_type": "display_data"
    },
    {
     "data": {
      "image/png": "[encoded data removed]",
      "text/plain": [
       "<Figure size 432x288 with 1 Axes>"
      ]
     },
     "metadata": {
      "needs_background": "light"
     },
     "output_type": "display_data"
    }
   ],
   "source": [
    "import matplotlib.pyplot as plt\n",
    "%matplotlib inline\n",
    "\n",
    "\n",
    "def plot_graphs(history, string):\n",
    "  plt.plot(history.history[string])\n",
    "  plt.plot(history.history['val_'+string])\n",
    "  plt.xlabel(\"Epochs\")\n",
    "  plt.ylabel(string)\n",
    "  plt.legend([string, 'val_'+string])\n",
    "  plt.show()\n",
    "  \n",
    "plot_graphs(history, \"accuracy\")\n",
    "plot_graphs(history, \"loss\")"
   ]
  },
  {
   "cell_type": "code",
   "execution_count": 39,
   "metadata": {
    "colab": {},
    "colab_type": "code",
    "id": "7SBdAZAenvzL"
   },
   "outputs": [
    {
     "name": "stdout",
     "output_type": "stream",
     "text": [
      "former <OOV> store clerk sues over secret 'black <OOV> for minority shoppers ? ? ? ? ? ? ? ? ? ? ? ? ? ? ? ? ? ? ? ? ? ? ? ? ? ? ? ? ? ? ? ? ? ? ? ? ? ? ? ? ? ? ? ? ? ? ? ? ? ? ? ? ? ? ? ? ? ? ? ? ? ? ? ? ? ? ? ? ? ? ? ? ? ? ? ? ? ? ? ? ? ? ? ? ? ? ? ?\n",
      "mom starting to fear son's web series closest thing she will have to grandchild\n",
      "1\n"
     ]
    }
   ],
   "source": [
    "reverse_word_index = dict([(value, key) for (key, value) in word_index.items()])\n",
    "\n",
    "def decode_sentence(text):\n",
    "    return ' '.join([reverse_word_index.get(i, '?') for i in text])\n",
    "\n",
    "print(decode_sentence(training_padded[0]))\n",
    "print(training_sentences[2])\n",
    "print(labels[2])"
   ]
  },
  {
   "cell_type": "code",
   "execution_count": 40,
   "metadata": {
    "colab": {},
    "colab_type": "code",
    "id": "c9MqihtEkzQ9"
   },
   "outputs": [
    {
     "name": "stdout",
     "output_type": "stream",
     "text": [
      "(10000, 16)\n"
     ]
    }
   ],
   "source": [
    "e = model.layers[0]\n",
    "weights = e.get_weights()[0]\n",
    "print(weights.shape) # shape: (vocab_size, embedding_dim)\n"
   ]
  },
  {
   "cell_type": "code",
   "execution_count": 41,
   "metadata": {
    "colab": {},
    "colab_type": "code",
    "id": "LoBXVffknldU"
   },
   "outputs": [],
   "source": [
    "import io\n",
    "\n",
    "out_v = io.open('vecs.tsv', 'w', encoding='utf-8')\n",
    "out_m = io.open('meta.tsv', 'w', encoding='utf-8')\n",
    "for word_num in range(1, vocab_size):\n",
    "  word = reverse_word_index[word_num]\n",
    "  embeddings = weights[word_num]\n",
    "  out_m.write(word + \"\\n\")\n",
    "  out_v.write('\\t'.join([str(x) for x in embeddings]) + \"\\n\")\n",
    "out_v.close()\n",
    "out_m.close()"
   ]
  },
  {
   "cell_type": "code",
   "execution_count": 42,
   "metadata": {
    "colab": {},
    "colab_type": "code",
    "id": "U4eZ5HtVnnEE"
   },
   "outputs": [],
   "source": [
    "try:\n",
    "  from google.colab import files\n",
    "except ImportError:\n",
    "  pass\n",
    "else:\n",
    "  files.download('vecs.tsv')\n",
    "  files.download('meta.tsv')"
   ]
  },
  {
   "cell_type": "code",
   "execution_count": 43,
   "metadata": {
    "colab": {},
    "colab_type": "code",
    "id": "cG8-ArY-qDcz"
   },
   "outputs": [
    {
     "name": "stdout",
     "output_type": "stream",
     "text": [
      "[[7.6870108e-01]\n",
      " [1.3060826e-05]]\n"
     ]
    }
   ],
   "source": [
    "sentence = [\"granny starting to fear spiders in the garden might be real\", \"game of thrones season finale showing this sunday night\"]\n",
    "sequences = tokenizer.texts_to_sequences(sentence)\n",
    "padded = pad_sequences(sequences, maxlen=max_length, padding=padding_type, truncating=trunc_type)\n",
    "print(model.predict(padded))"
   ]
  }
 ],
 "metadata": {
  "accelerator": "GPU",
  "colab": {
   "collapsed_sections": [],
   "name": "Course 3 - Week 2 - Lesson 2.ipynb",
   "provenance": [],
   "version": "0.3.2"
  },
  "hide_input": false,
  "kernelspec": {
   "display_name": "Python 3",
   "language": "python",
   "name": "python3"
  },
  "language_info": {
   "codemirror_mode": {
    "name": "ipython",
    "version": 3
   },
   "file_extension": ".py",
   "mimetype": "text/x-python",
   "name": "python",
   "nbconvert_exporter": "python",
   "pygments_lexer": "ipython3",
   "version": "3.7.5"
  },
  "latex_envs": {
   "LaTeX_envs_menu_present": true,
   "autoclose": false,
   "autocomplete": true,
   "bibliofile": "biblio.bib",
   "cite_by": "apalike",
   "current_citInitial": 1,
   "eqLabelWithNumbers": true,
   "eqNumInitial": 1,
   "hotkeys": {
    "equation": "Ctrl-E",
    "itemize": "Ctrl-I"
   },
   "labels_anchors": false,
   "latex_user_defs": false,
   "report_style_numbering": false,
   "user_envs_cfg": false
  }
 },
 "nbformat": 4,
 "nbformat_minor": 1
}
